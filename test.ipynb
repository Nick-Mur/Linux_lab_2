{
 "cells": [
  {
   "metadata": {},
   "cell_type": "code",
   "outputs": [],
   "execution_count": null,
   "source": [
    "### Пример математических выражений в Markdown\n",
    "\n",
    "**Inline-математика**: Формула Эйнштейна — $E = mc^2$.\n",
    "\n",
    "**Display-математика**: $$\n",
    "\\int_{a}^{b} f(x) \\, dx\n",
    "$$"
   ],
   "id": "2926980e8b1a5237"
  },
  {
   "metadata": {},
   "cell_type": "code",
   "outputs": [],
   "execution_count": null,
   "source": "",
   "id": "6ddd470b01a77bf7"
  }
 ],
 "nbformat": 4,
 "nbformat_minor": 5,
 "metadata": {}
}
